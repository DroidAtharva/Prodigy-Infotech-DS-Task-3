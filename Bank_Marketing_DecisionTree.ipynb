{
  "cells": [
    {
      "cell_type": "markdown",
      "metadata": {},
      "source": [
        "# \ud83c\udfaf Bank Marketing: Predict If Customer Will Buy Product (Decision Tree Classifier)\n",
        "\n",
        "Dataset: `bank.csv` (10% sample)\n",
        "\n",
        "**Goal**: Predict whether a customer will buy a product (subscribe to a term deposit)\n"
      ]
    },
    {
      "cell_type": "code",
      "execution_count": null,
      "metadata": {},
      "outputs": [],
      "source": [
        "# \u2705 Step 1: Import Libraries\n",
        "import pandas as pd\n",
        "import numpy as np\n",
        "import matplotlib.pyplot as plt\n",
        "import seaborn as sns\n",
        "from sklearn.model_selection import train_test_split\n",
        "from sklearn.preprocessing import LabelEncoder\n",
        "from sklearn.tree import DecisionTreeClassifier, plot_tree, export_text\n",
        "from sklearn.metrics import accuracy_score, confusion_matrix, classification_report"
      ]
    },
    {
      "cell_type": "code",
      "execution_count": null,
      "metadata": {},
      "outputs": [],
      "source": [
        "# \u2705 Step 2: Load Dataset\n",
        "df = pd.read_csv(\"bank.csv\", sep=';')\n",
        "df.head()"
      ]
    },
    {
      "cell_type": "code",
      "execution_count": null,
      "metadata": {},
      "outputs": [],
      "source": [
        "# \u2705 Step 3: Simplify Target Labels for Readability\n",
        "df['y'] = df['y'].map({\n",
        "    'yes': 'Will Buy Product',\n",
        "    'no': 'Will Not Buy Product'\n",
        "})"
      ]
    },
    {
      "cell_type": "code",
      "execution_count": null,
      "metadata": {},
      "outputs": [],
      "source": [
        "# \u2705 Step 4: Encode All Categorical Features (Including New Target)\n",
        "le_y = LabelEncoder()\n",
        "df['y'] = le_y.fit_transform(df['y'])\n",
        "\n",
        "for col in df.select_dtypes(include='object').columns:\n",
        "    df[col] = LabelEncoder().fit_transform(df[col])"
      ]
    },
    {
      "cell_type": "code",
      "execution_count": null,
      "metadata": {},
      "outputs": [],
      "source": [
        "# \u2705 Step 5: Train-Test Split\n",
        "X = df.drop('y', axis=1)\n",
        "y = df['y']\n",
        "X_train, X_test, y_train, y_test = train_test_split(X, y, test_size=0.2, random_state=42)"
      ]
    },
    {
      "cell_type": "code",
      "execution_count": null,
      "metadata": {},
      "outputs": [],
      "source": [
        "# \u2705 Step 6: Train Decision Tree\n",
        "clf = DecisionTreeClassifier(max_depth=3, random_state=42)\n",
        "clf.fit(X_train, y_train)"
      ]
    },
    {
      "cell_type": "code",
      "execution_count": null,
      "metadata": {},
      "outputs": [],
      "source": [
        "# \u2705 Step 7: Evaluate Model\n",
        "y_pred = clf.predict(X_test)\n",
        "print(\"Accuracy:\", accuracy_score(y_test, y_pred))\n",
        "print(\"\\nConfusion Matrix:\\n\", confusion_matrix(y_test, y_pred))\n",
        "print(\"\\nClassification Report:\\n\", classification_report(y_test, y_pred, target_names=le_y.classes_))"
      ]
    },
    {
      "cell_type": "code",
      "execution_count": null,
      "metadata": {},
      "outputs": [],
      "source": [
        "# \u2705 Step 8: Visualize Decision Tree\n",
        "%matplotlib inline\n",
        "plt.figure(figsize=(24,12))\n",
        "plot_tree(clf, \n",
        "          feature_names=X.columns, \n",
        "          class_names=le_y.classes_, \n",
        "          filled=True, rounded=True, fontsize=12)\n",
        "plt.title(\"Decision Tree: Will Customer Buy the Product?\", fontsize=16)\n",
        "plt.show()"
      ]
    },
    {
      "cell_type": "code",
      "execution_count": null,
      "metadata": {},
      "outputs": [],
      "source": [
        "# \u2705 Step 9: Show Decision Rules (on what basis)\n",
        "rules = export_text(clf, feature_names=list(X.columns), max_depth=3)\n",
        "print(rules)"
      ]
    },
    {
      "cell_type": "code",
      "execution_count": null,
      "metadata": {},
      "outputs": [],
      "source": [
        "# \u2705 Step 10: Show Feature Importance\n",
        "feature_importance = pd.Series(clf.feature_importances_, index=X.columns)\n",
        "feature_importance.sort_values().plot(kind='barh', figsize=(10,6))\n",
        "plt.title(\"Feature Importance: What Influences Buying Decision\")\n",
        "plt.xlabel(\"Importance\")\n",
        "plt.show()"
      ]
    }
  ],
  "metadata": {
    "kernelspec": {
      "display_name": "Python 3",
      "language": "python",
      "name": "python3"
    },
    "language_info": {
      "name": "python",
      "version": "3.8"
    }
  },
  "nbformat": 4,
  "nbformat_minor": 4
}